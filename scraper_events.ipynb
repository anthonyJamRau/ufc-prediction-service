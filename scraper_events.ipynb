{
 "cells": [
  {
   "cell_type": "code",
   "execution_count": null,
   "id": "ffb3801c",
   "metadata": {},
   "outputs": [],
   "source": [
    "#Import libraries for web-scraping and saving to CSV file.\n",
    "import requests\n",
    "import bs4\n",
    "import re\n",
    "import csv\n",
    "import os\n",
    "import pandas as pd\n",
    "from Scraper import get_urls, events, fights, fightstats, fighters, upcoming_events, normalise_tables\n",
    "from datetime import datetime\n",
    "import time\n",
    "import logging"
   ]
  },
  {
   "cell_type": "markdown",
   "id": "2bd1b781",
   "metadata": {},
   "source": [
    "### get event urls"
   ]
  },
  {
   "cell_type": "code",
   "execution_count": null,
   "id": "8760e7e8",
   "metadata": {},
   "outputs": [],
   "source": [
    "\n",
    "\n",
    "main_url = requests.get('http://ufcstats.com/statistics/events/completed?page=all')\n",
    "main_event_soup = bs4.BeautifulSoup(main_url.text, 'lxml')\n",
    "\n",
    "\n",
    "#Adds href to list if href contains a link with keyword 'event-details'\n",
    "all_event_urls = [item.get('href') for item in  main_event_soup.find_all('a') \n",
    "                    if type(item.get('href')) == str \n",
    "                    and 'event-details' in item.get('href')]\n"
   ]
  },
  {
   "cell_type": "code",
   "execution_count": 6,
   "id": "e7253563",
   "metadata": {},
   "outputs": [
    {
     "name": "stdout",
     "output_type": "stream",
     "text": [
      "729\n",
      "http://ufcstats.com/event-details/b2e3aca4cd363477\n"
     ]
    }
   ],
   "source": [
    "print(len(all_event_urls))\n",
    "print(all_event_urls[0])"
   ]
  },
  {
   "cell_type": "markdown",
   "id": "a9523395",
   "metadata": {},
   "source": [
    "### get events from event urls"
   ]
  },
  {
   "cell_type": "code",
   "execution_count": 42,
   "id": "683f56ff",
   "metadata": {},
   "outputs": [],
   "source": [
    "event = all_event_urls[0]\n",
    "event_request = requests.get(event)\n",
    "event_soup = bs4.BeautifulSoup(event_request.text,'lxml')"
   ]
  },
  {
   "cell_type": "code",
   "execution_count": null,
   "id": "e81df660",
   "metadata": {},
   "outputs": [],
   "source": [
    "event_full_location = event_soup.select('li')[4].text.split(':')[1].strip().split(',')"
   ]
  },
  {
   "cell_type": "code",
   "execution_count": 43,
   "id": "8d9dd373",
   "metadata": {},
   "outputs": [],
   "source": [
    "location_tag = [i.text for i in event_soup.select('li.b-list__box-list-item') if 'location' in str.lower(i.text)]\n",
    "date_tag = [i.text for i in event_soup.select('li.b-list__box-list-item') if 'date' in str.lower(i.text)]\n"
   ]
  },
  {
   "cell_type": "code",
   "execution_count": 44,
   "id": "baf679bc",
   "metadata": {},
   "outputs": [],
   "source": [
    "event_full_location = location_tag[0].split(':')[1].strip().split(',')"
   ]
  },
  {
   "cell_type": "code",
   "execution_count": null,
   "id": "91ec012a",
   "metadata": {},
   "outputs": [],
   "source": [
    "try:\n",
    "    \n",
    "    event_name = event_soup.select('h2')[0].text\n",
    "    event_date = str(datetime.strptime(date_tag[0].split(':')[-1].strip(), '%B %d, %Y'))\n",
    "    event_city = event_full_location[0]\n",
    "    event_country = event_full_location[-1]\n",
    "\n",
    "    if len(event_full_location)>2:\n",
    "        event_state = event_full_location[1]\n",
    "    else:\n",
    "        event_state = 'NULL'    \n",
    "\n",
    "except (IndexError, AttributeError, ValueError) as e:\n",
    "    logging.warning(f\"Known error scraping event page: {event} — {type(e).__name__}: {e}\")\n",
    "except Exception as e:\n",
    "    logging.error(f\"Unexpected error scraping event page: {event} — {type(e).__name__}: {e}\")"
   ]
  },
  {
   "cell_type": "code",
   "execution_count": 46,
   "id": "62b15c80",
   "metadata": {},
   "outputs": [
    {
     "name": "stdout",
     "output_type": "stream",
     "text": [
      "\n",
      "\n",
      "              UFC Fight Night: Machado Garry vs. Prates\n",
      "            \n",
      " 2025-04-26 00:00:00  Missouri Kansas City  USA\n"
     ]
    }
   ],
   "source": [
    "print(event_name, event_date, event_state,event_city, event_country)"
   ]
  }
 ],
 "metadata": {
  "kernelspec": {
   "display_name": ".venv",
   "language": "python",
   "name": "python3"
  },
  "language_info": {
   "codemirror_mode": {
    "name": "ipython",
    "version": 3
   },
   "file_extension": ".py",
   "mimetype": "text/x-python",
   "name": "python",
   "nbconvert_exporter": "python",
   "pygments_lexer": "ipython3",
   "version": "3.12.2"
  }
 },
 "nbformat": 4,
 "nbformat_minor": 5
}
