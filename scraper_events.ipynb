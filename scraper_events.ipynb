{
 "cells": [
  {
   "cell_type": "code",
   "execution_count": null,
   "id": "ffb3801c",
   "metadata": {},
   "outputs": [],
   "source": [
    "#Import libraries for web-scraping and saving to CSV file.\n",
    "import requests\n",
    "import bs4\n",
    "import os\n",
    "import pandas as pd\n",
    "from datetime import datetime\n",
    "import time\n",
    "import logging"
   ]
  },
  {
   "cell_type": "markdown",
   "id": "2bd1b781",
   "metadata": {},
   "source": [
    "### get event urls"
   ]
  },
  {
   "cell_type": "code",
   "execution_count": null,
   "id": "8760e7e8",
   "metadata": {},
   "outputs": [],
   "source": [
    "\n",
    "\n",
    "main_url = requests.get('http://ufcstats.com/statistics/events/completed?page=all')\n",
    "main_event_soup = bs4.BeautifulSoup(main_url.text, 'lxml')\n",
    "\n",
    "\n",
    "#Adds href to list if href contains a link with keyword 'event-details'\n",
    "all_event_urls = [item.get('href') for item in  main_event_soup.find_all('a') \n",
    "                    if type(item.get('href')) == str \n",
    "                    and 'event-details' in item.get('href')]\n"
   ]
  },
  {
   "cell_type": "markdown",
   "id": "a9523395",
   "metadata": {},
   "source": [
    "### get events from event urls"
   ]
  },
  {
   "cell_type": "code",
   "execution_count": 42,
   "id": "683f56ff",
   "metadata": {},
   "outputs": [],
   "source": [
    "event = all_event_urls[0]\n",
    "event_request = requests.get(event)\n",
    "event_soup = bs4.BeautifulSoup(event_request.text,'lxml')"
   ]
  },
  {
   "cell_type": "code",
   "execution_count": null,
   "id": "e81df660",
   "metadata": {},
   "outputs": [],
   "source": [
    "event_full_location = event_soup.select('li')[4].text.split(':')[1].strip().split(',')"
   ]
  },
  {
   "cell_type": "code",
   "execution_count": 43,
   "id": "8d9dd373",
   "metadata": {},
   "outputs": [],
   "source": [
    "location_tag = [i.text for i in event_soup.select('li.b-list__box-list-item') if 'location' in str.lower(i.text)]\n",
    "date_tag = [i.text for i in event_soup.select('li.b-list__box-list-item') if 'date' in str.lower(i.text)]\n"
   ]
  },
  {
   "cell_type": "code",
   "execution_count": 44,
   "id": "baf679bc",
   "metadata": {},
   "outputs": [],
   "source": [
    "event_full_location = location_tag[0].split(':')[1].strip().split(',')"
   ]
  },
  {
   "cell_type": "code",
   "execution_count": null,
   "id": "91ec012a",
   "metadata": {},
   "outputs": [],
   "source": [
    "try:\n",
    "    \n",
    "    event_name = event_soup.select('h2')[0].text\n",
    "    event_date = str(datetime.strptime(date_tag[0].split(':')[-1].strip(), '%B %d, %Y'))\n",
    "    event_city = event_full_location[0]\n",
    "    event_country = event_full_location[-1]\n",
    "\n",
    "    if len(event_full_location)>2:\n",
    "        event_state = event_full_location[1]\n",
    "    else:\n",
    "        event_state = 'NULL'    \n",
    "\n",
    "except (IndexError, AttributeError, ValueError) as e:\n",
    "    logging.warning(f\"Known error scraping event page: {event} — {type(e).__name__}: {e}\")\n",
    "except Exception as e:\n",
    "    logging.error(f\"Unexpected error scraping event page: {event} — {type(e).__name__}: {e}\")"
   ]
  },
  {
   "cell_type": "code",
   "execution_count": 46,
   "id": "62b15c80",
   "metadata": {},
   "outputs": [
    {
     "name": "stdout",
     "output_type": "stream",
     "text": [
      "\n",
      "\n",
      "              UFC Fight Night: Machado Garry vs. Prates\n",
      "            \n",
      " 2025-04-26 00:00:00  Missouri Kansas City  USA\n"
     ]
    }
   ],
   "source": [
    "print(event_name, event_date, event_state,event_city, event_country)"
   ]
  },
  {
   "cell_type": "markdown",
   "id": "b57c6071",
   "metadata": {},
   "source": [
    "### get upcomingevents "
   ]
  },
  {
   "cell_type": "code",
   "execution_count": 99,
   "id": "1b9cc747",
   "metadata": {},
   "outputs": [],
   "source": [
    "request_url = 'http://ufcstats.com/statistics/events/upcoming?page=all'\n",
    "response = requests.get(request_url)\n",
    "upcoming_event_soup = bs4.BeautifulSoup(response.text,'lxml')\n",
    "\n",
    "upcoming_event_urls = [item.get('href') for item in upcoming_event_soup.find_all('a') if type(item.get('href')) == type('a') and 'event-details' in item.get('href')]\n",
    "\n",
    "names_and_dates = [i.text.strip() for i in upcoming_event_soup.select('i.b-statistics__table-content')]\n",
    "locations = [i.text.strip() for i in upcoming_event_soup.select('td.b-statistics__table-col_style_big-top-padding')]\n",
    "\n",
    "event_names_df = pd.DataFrame(columns = ['event_url','event_name','event_date','event_location'])\n",
    "for i,j,k in zip(names_and_dates,locations,upcoming_event_urls):\n",
    "    temp = i.split('\\n')\n",
    "    name = temp[0]\n",
    "    date = temp[-1]\n",
    "    event_names_df.loc[len(event_names_df.index)] = [k, name, date, j]\n",
    "    "
   ]
  },
  {
   "cell_type": "code",
   "execution_count": 101,
   "id": "346ccb1e",
   "metadata": {},
   "outputs": [
    {
     "data": {
      "text/html": [
       "<div>\n",
       "<style scoped>\n",
       "    .dataframe tbody tr th:only-of-type {\n",
       "        vertical-align: middle;\n",
       "    }\n",
       "\n",
       "    .dataframe tbody tr th {\n",
       "        vertical-align: top;\n",
       "    }\n",
       "\n",
       "    .dataframe thead th {\n",
       "        text-align: right;\n",
       "    }\n",
       "</style>\n",
       "<table border=\"1\" class=\"dataframe\">\n",
       "  <thead>\n",
       "    <tr style=\"text-align: right;\">\n",
       "      <th></th>\n",
       "      <th>event_url</th>\n",
       "      <th>event_name</th>\n",
       "      <th>event_date</th>\n",
       "      <th>event_location</th>\n",
       "    </tr>\n",
       "  </thead>\n",
       "  <tbody>\n",
       "    <tr>\n",
       "      <th>0</th>\n",
       "      <td>http://ufcstats.com/event-details/b2e3aca4cd36...</td>\n",
       "      <td>UFC Fight Night: Machado Garry vs. Prates</td>\n",
       "      <td>April 26, 2025</td>\n",
       "      <td>Kansas City, Missouri, USA</td>\n",
       "    </tr>\n",
       "    <tr>\n",
       "      <th>1</th>\n",
       "      <td>http://ufcstats.com/event-details/de20ffb3fc2e...</td>\n",
       "      <td>UFC Fight Night: Sandhagen vs. Figueiredo</td>\n",
       "      <td>May 03, 2025</td>\n",
       "      <td>Des Moines, Iowa, USA</td>\n",
       "    </tr>\n",
       "    <tr>\n",
       "      <th>2</th>\n",
       "      <td>http://ufcstats.com/event-details/118463dd8db1...</td>\n",
       "      <td>UFC 315: Muhammad vs. Della Maddalena</td>\n",
       "      <td>May 10, 2025</td>\n",
       "      <td>Montreal, Quebec, Canada</td>\n",
       "    </tr>\n",
       "    <tr>\n",
       "      <th>3</th>\n",
       "      <td>http://ufcstats.com/event-details/8ad022dd8122...</td>\n",
       "      <td>UFC Fight Night: Burns vs. Morales</td>\n",
       "      <td>May 17, 2025</td>\n",
       "      <td>Las Vegas, Nevada, USA</td>\n",
       "    </tr>\n",
       "    <tr>\n",
       "      <th>4</th>\n",
       "      <td>http://ufcstats.com/event-details/2a898bf9fb77...</td>\n",
       "      <td>UFC Fight Night: Blanchfield vs. Barber</td>\n",
       "      <td>May 31, 2025</td>\n",
       "      <td>Las Vegas, Nevada, USA</td>\n",
       "    </tr>\n",
       "  </tbody>\n",
       "</table>\n",
       "</div>"
      ],
      "text/plain": [
       "                                           event_url  \\\n",
       "0  http://ufcstats.com/event-details/b2e3aca4cd36...   \n",
       "1  http://ufcstats.com/event-details/de20ffb3fc2e...   \n",
       "2  http://ufcstats.com/event-details/118463dd8db1...   \n",
       "3  http://ufcstats.com/event-details/8ad022dd8122...   \n",
       "4  http://ufcstats.com/event-details/2a898bf9fb77...   \n",
       "\n",
       "                                  event_name  \\\n",
       "0  UFC Fight Night: Machado Garry vs. Prates   \n",
       "1  UFC Fight Night: Sandhagen vs. Figueiredo   \n",
       "2      UFC 315: Muhammad vs. Della Maddalena   \n",
       "3         UFC Fight Night: Burns vs. Morales   \n",
       "4    UFC Fight Night: Blanchfield vs. Barber   \n",
       "\n",
       "                                 event_date              event_location  \n",
       "0                            April 26, 2025  Kansas City, Missouri, USA  \n",
       "1                              May 03, 2025       Des Moines, Iowa, USA  \n",
       "2                              May 10, 2025    Montreal, Quebec, Canada  \n",
       "3                              May 17, 2025      Las Vegas, Nevada, USA  \n",
       "4                              May 31, 2025      Las Vegas, Nevada, USA  "
      ]
     },
     "execution_count": 101,
     "metadata": {},
     "output_type": "execute_result"
    }
   ],
   "source": [
    "event_names_df.head()"
   ]
  },
  {
   "cell_type": "code",
   "execution_count": 102,
   "id": "8d1faf07",
   "metadata": {},
   "outputs": [],
   "source": [
    "upcoming_event_url = upcoming_event_urls[0]\n",
    "reponse_upcoming_event = requests.get(upcoming_event_url)\n",
    "fight_card_soup = bs4.BeautifulSoup(reponse_upcoming_event.text,'lxml')\n",
    "\n",
    "df = pd.DataFrame(columns = ['event_url','fighter_1','fighter_2','weight_class'])\n",
    "set_info = [i.text.strip() for i in fight_card_soup.select(\"p.b-fight-details__table-text\")\n",
    "  if 'View Matchup' not in i.text and len(i.text.strip()) > 0]\n",
    "for set_idx in range(len(set_info)//3):\n",
    "    df.loc[len(df.index)] = [upcoming_event_url,set_info[set_idx*3],set_info[set_idx*3+1],set_info[set_idx*3+2]]"
   ]
  },
  {
   "cell_type": "code",
   "execution_count": 103,
   "id": "d27f6803",
   "metadata": {},
   "outputs": [
    {
     "data": {
      "text/html": [
       "<div>\n",
       "<style scoped>\n",
       "    .dataframe tbody tr th:only-of-type {\n",
       "        vertical-align: middle;\n",
       "    }\n",
       "\n",
       "    .dataframe tbody tr th {\n",
       "        vertical-align: top;\n",
       "    }\n",
       "\n",
       "    .dataframe thead th {\n",
       "        text-align: right;\n",
       "    }\n",
       "</style>\n",
       "<table border=\"1\" class=\"dataframe\">\n",
       "  <thead>\n",
       "    <tr style=\"text-align: right;\">\n",
       "      <th></th>\n",
       "      <th>event_url</th>\n",
       "      <th>fighter_1</th>\n",
       "      <th>fighter_2</th>\n",
       "      <th>weight_class</th>\n",
       "    </tr>\n",
       "  </thead>\n",
       "  <tbody>\n",
       "    <tr>\n",
       "      <th>0</th>\n",
       "      <td>http://ufcstats.com/event-details/b2e3aca4cd36...</td>\n",
       "      <td>Ian Machado Garry</td>\n",
       "      <td>Carlos Prates</td>\n",
       "      <td>Welterweight</td>\n",
       "    </tr>\n",
       "    <tr>\n",
       "      <th>1</th>\n",
       "      <td>http://ufcstats.com/event-details/b2e3aca4cd36...</td>\n",
       "      <td>Anthony Smith</td>\n",
       "      <td>Zhang Mingyang</td>\n",
       "      <td>Light Heavyweight</td>\n",
       "    </tr>\n",
       "    <tr>\n",
       "      <th>2</th>\n",
       "      <td>http://ufcstats.com/event-details/b2e3aca4cd36...</td>\n",
       "      <td>Giga Chikadze</td>\n",
       "      <td>David Onama</td>\n",
       "      <td>Featherweight</td>\n",
       "    </tr>\n",
       "    <tr>\n",
       "      <th>3</th>\n",
       "      <td>http://ufcstats.com/event-details/b2e3aca4cd36...</td>\n",
       "      <td>Michel Pereira</td>\n",
       "      <td>Abus Magomedov</td>\n",
       "      <td>Middleweight</td>\n",
       "    </tr>\n",
       "    <tr>\n",
       "      <th>4</th>\n",
       "      <td>http://ufcstats.com/event-details/b2e3aca4cd36...</td>\n",
       "      <td>Randy Brown</td>\n",
       "      <td>Nicolas Dalby</td>\n",
       "      <td>Welterweight</td>\n",
       "    </tr>\n",
       "  </tbody>\n",
       "</table>\n",
       "</div>"
      ],
      "text/plain": [
       "                                           event_url          fighter_1  \\\n",
       "0  http://ufcstats.com/event-details/b2e3aca4cd36...  Ian Machado Garry   \n",
       "1  http://ufcstats.com/event-details/b2e3aca4cd36...      Anthony Smith   \n",
       "2  http://ufcstats.com/event-details/b2e3aca4cd36...      Giga Chikadze   \n",
       "3  http://ufcstats.com/event-details/b2e3aca4cd36...     Michel Pereira   \n",
       "4  http://ufcstats.com/event-details/b2e3aca4cd36...        Randy Brown   \n",
       "\n",
       "        fighter_2       weight_class  \n",
       "0   Carlos Prates       Welterweight  \n",
       "1  Zhang Mingyang  Light Heavyweight  \n",
       "2     David Onama      Featherweight  \n",
       "3  Abus Magomedov       Middleweight  \n",
       "4   Nicolas Dalby       Welterweight  "
      ]
     },
     "execution_count": 103,
     "metadata": {},
     "output_type": "execute_result"
    }
   ],
   "source": [
    "df.head()"
   ]
  }
 ],
 "metadata": {
  "kernelspec": {
   "display_name": ".venv",
   "language": "python",
   "name": "python3"
  },
  "language_info": {
   "codemirror_mode": {
    "name": "ipython",
    "version": 3
   },
   "file_extension": ".py",
   "mimetype": "text/x-python",
   "name": "python",
   "nbconvert_exporter": "python",
   "pygments_lexer": "ipython3",
   "version": "3.12.2"
  }
 },
 "nbformat": 4,
 "nbformat_minor": 5
}
