{
 "cells": [
  {
   "cell_type": "code",
   "execution_count": 44,
   "id": "ffb3801c",
   "metadata": {},
   "outputs": [],
   "source": [
    "#Import libraries for web-scraping and saving to CSV file.\n",
    "import requests\n",
    "import bs4\n",
    "import re\n",
    "import csv\n",
    "import os\n",
    "import pandas as pd\n",
    "from Scraper import get_urls, events, fights, fightstats, fighters, upcoming_events, normalise_tables\n",
    "from datetime import datetime\n",
    "import time\n",
    "import inspect\n",
    "import logging\n",
    "from functools import wraps"
   ]
  },
  {
   "cell_type": "markdown",
   "id": "2bd1b781",
   "metadata": {},
   "source": [
    "### get fight urls from event urls"
   ]
  },
  {
   "cell_type": "code",
   "execution_count": 13,
   "id": "9d74cfd6",
   "metadata": {},
   "outputs": [],
   "source": [
    "main_url = requests.get('http://ufcstats.com/statistics/events/completed?page=all')\n",
    "main_event_soup = bs4.BeautifulSoup(main_url.text, 'lxml')\n",
    "\n",
    "\n",
    "#Adds href to list if href contains a link with keyword 'event-details'\n",
    "all_event_urls = [item.get('href') for item in  main_event_soup.find_all('a') \n",
    "                    if type(item.get('href')) == str \n",
    "                    and 'event-details' in item.get('href')]\n",
    "\n",
    "all_event_urls = all_event_urls[:2]\n"
   ]
  },
  {
   "cell_type": "code",
   "execution_count": 14,
   "id": "042ae7b6",
   "metadata": {},
   "outputs": [],
   "source": [
    "#Iterates through each event URL\n",
    "all_fight_urls = []\n",
    "for url in all_event_urls:\n",
    "    event_url = requests.get(url)\n",
    "    event_soup = bs4.BeautifulSoup(event_url.text,'lxml')\n",
    "\n",
    "    #Scrapes fight URLs from event pages and adds to list\n",
    "    for item in event_soup.find_all('a', class_='b-flag b-flag_style_green'):\n",
    "        all_fight_urls.append(item.get('href'))"
   ]
  },
  {
   "cell_type": "markdown",
   "id": "a9523395",
   "metadata": {},
   "source": [
    "### get fight info from fight urls"
   ]
  },
  {
   "cell_type": "code",
   "execution_count": null,
   "id": "c2c9ed3f",
   "metadata": {},
   "outputs": [
    {
     "name": "stderr",
     "output_type": "stream",
     "text": [
      "<>:54: SyntaxWarning: invalid escape sequence '\\w'\n",
      "<>:64: SyntaxWarning: invalid escape sequence '\\w'\n",
      "<>:54: SyntaxWarning: invalid escape sequence '\\w'\n",
      "<>:64: SyntaxWarning: invalid escape sequence '\\w'\n",
      "C:\\Users\\RautaN01\\AppData\\Local\\Temp\\ipykernel_648\\1801170309.py:54: SyntaxWarning: invalid escape sequence '\\w'\n",
      "  return \"Women's \" + re.findall('\\w*weight',fight_type[0].text.strip())[0]\n",
      "C:\\Users\\RautaN01\\AppData\\Local\\Temp\\ipykernel_648\\1801170309.py:64: SyntaxWarning: invalid escape sequence '\\w'\n",
      "  return re.findall('\\w*weight',fight_type[0].text.strip())[0]\n"
     ]
    }
   ],
   "source": [
    "def safe_fight_info_get(default_return=None):\n",
    "    def decorator(func):\n",
    "        @wraps(func)\n",
    "        def wrapper(*args, **kwargs):\n",
    "            try:\n",
    "                return func(*args, **kwargs)\n",
    "            except (IndexError, AttributeError) as e:\n",
    "                logging.warning(f\"Known error for {func.__name__}: {type(e).__name__}: {e}\")\n",
    "                return default_return\n",
    "            except Exception as e:\n",
    "                logging.error(f\"Unexpected error for {func.__name__}: {type(e).__name__}: {e}\")\n",
    "                return default_return\n",
    "        return wrapper\n",
    "    return decorator\n",
    "\n",
    "@safe_fight_info_get(default_return='NULL')\n",
    "def get_referee(overview):\n",
    "    return overview[3].text.split(':')[1]\n",
    "\n",
    "@safe_fight_info_get(default_return=('NULL','NULL'))\n",
    "def get_fighters(fight_details,fight_soup):\n",
    "    try:\n",
    "        return fight_details[0].text, fight_details[1].text\n",
    "    except:\n",
    "        links = fight_soup.select('a.b-fight-details__person-link')\n",
    "        return links[0].text, links[1].text\n",
    "\n",
    "@safe_fight_info_get(default_return=('NULL','NULL'))\n",
    "def get_aliases(nicknames):\n",
    "    n1 = nicknames[0].text if len(nicknames[0].text.strip()>0) else 'NULL'\n",
    "    n2 = nicknames[1].text if len(nicknames[1].text.strip()>0) else 'NULL'\n",
    "    return n1,n2\n",
    "    \n",
    "        \n",
    "@safe_fight_info_get(default_return='NULL')\n",
    "def get_winner(win_lose,f_1,f_2):\n",
    "    if (win_lose[0].text.strip()=='W') | (win_lose[1].text.strip()=='W'):\n",
    "        if (win_lose[0].text.strip()=='W'):\n",
    "            return f_1\n",
    "        else:\n",
    "            return f_2\n",
    "    else:\n",
    "        return 'NULL'\n",
    "\n",
    "@safe_fight_info_get(default_return='NULL')\n",
    "def get_title_fight(fight_type):\n",
    "    if 'Title' in fight_type[0].text:\n",
    "        return 'T'\n",
    "    else:\n",
    "        return 'F'\n",
    "\n",
    "@safe_fight_info_get(default_return='NULL')\n",
    "def get_weight_class(fight_type):\n",
    "    if 'Light Heavyweight' in fight_type[0].text.strip():\n",
    "        return 'Light Heavyweight'\n",
    "        \n",
    "    elif 'Women' in fight_type[0].text.strip():\n",
    "        return \"Women's \" + re.findall('\\w*weight',fight_type[0].text.strip())[0]\n",
    "        \n",
    "    elif 'Catch Weight' in fight_type[0].text.strip():\n",
    "        return 'Catch Weight'\n",
    "            \n",
    "    elif 'Open Weight' in fight_type[0].text.strip():\n",
    "        return 'Open Weight' \n",
    "    else:   \n",
    "        try:\n",
    "            return re.findall('\\w*weight',fight_type[0].text.strip())[0]\n",
    "        except: \n",
    "            return 'NULL'\n",
    "\n",
    "@safe_fight_info_get(default_return='NULL')\n",
    "def get_gender(fight_type):\n",
    "    if 'women' in str.lower(fight_type[0].text):\n",
    "        return 'F'\n",
    "    else:\n",
    "        return 'M'\n",
    "\n",
    "@safe_fight_info_get(default_return='NULL')\n",
    "def get_result(select_result,select_result_details):\n",
    "    if 'Decision' in select_result[0].text.split(':')[1]:\n",
    "        return select_result[0].text.split(':')[1].split()[0], select_result[0].text.split(':')[1].split()[-1]\n",
    "    else:\n",
    "        return select_result[0].text.split(':')[1], select_result_details[1].text.split(':')[-1]"
   ]
  },
  {
   "cell_type": "code",
   "execution_count": 15,
   "id": "b9dd3959",
   "metadata": {},
   "outputs": [
    {
     "data": {
      "text/plain": [
       "['http://ufcstats.com/fight-details/e733f148060bef2a',\n",
       " 'http://ufcstats.com/fight-details/d05cb4c4135ce402',\n",
       " 'http://ufcstats.com/fight-details/d3be5a4e0ec273e2',\n",
       " 'http://ufcstats.com/fight-details/8c540eb4afe8c43e',\n",
       " 'http://ufcstats.com/fight-details/b2d731415bd367df',\n",
       " 'http://ufcstats.com/fight-details/fc43d60cbd6b0e6a',\n",
       " 'http://ufcstats.com/fight-details/0eccebee160137b1',\n",
       " 'http://ufcstats.com/fight-details/11eb27a1ac74d225',\n",
       " 'http://ufcstats.com/fight-details/08e7a39eb7482ebf',\n",
       " 'http://ufcstats.com/fight-details/4bbda6c1f6cf9d4e',\n",
       " 'http://ufcstats.com/fight-details/fd98843926965cbd',\n",
       " 'http://ufcstats.com/fight-details/b87d6f71d901355b',\n",
       " 'http://ufcstats.com/fight-details/0e71e69359db4d1e']"
      ]
     },
     "execution_count": 15,
     "metadata": {},
     "output_type": "execute_result"
    }
   ],
   "source": [
    "all_fight_urls"
   ]
  },
  {
   "cell_type": "code",
   "execution_count": 49,
   "id": "301ec866",
   "metadata": {},
   "outputs": [],
   "source": [
    "#Scrapes details of each UFC fight and appends to file 'ufc_fight_data.csv'\n",
    "\n",
    "url = all_fight_urls[0]\n",
    "\n",
    "fight_url = requests.get(url)\n",
    "fight_soup = bs4.BeautifulSoup(fight_url.text,'lxml')\n",
    "\n",
    "#Define key select statements\n",
    "overview = fight_soup.select('i.b-fight-details__text-item')\n",
    "select_result = fight_soup.select('i.b-fight-details__text-item_first')\n",
    "select_result_details = fight_soup.select('p.b-fight-details__text')\n",
    "fight_details = fight_soup.select('p.b-fight-details__table-text')\n",
    "fight_type = fight_soup.select('i.b-fight-details__fight-title')\n",
    "win_lose = fight_soup.select('i.b-fight-details__person-status')\n",
    "nicknames = fight_soup.select('p.b-fight-details__person-title')\n"
   ]
  },
  {
   "cell_type": "code",
   "execution_count": null,
   "id": "de1b296a",
   "metadata": {},
   "outputs": [
    {
     "name": "stderr",
     "output_type": "stream",
     "text": [
      "<>:11: SyntaxWarning: invalid escape sequence '\\d'\n",
      "<>:11: SyntaxWarning: invalid escape sequence '\\d'\n",
      "C:\\Users\\RautaN01\\AppData\\Local\\Temp\\ipykernel_648\\1880619359.py:11: SyntaxWarning: invalid escape sequence '\\d'\n",
      "  finish_time = re.findall('\\d:\\d\\d',overview[1].text)[0]\n"
     ]
    }
   ],
   "source": [
    "#Scrape fight details\n",
    "event_name = fight_soup.h2.text\n",
    "referee = get_referee(overview)\n",
    "f_1,f_2 = get_fighters(fight_details,fight_soup)\n",
    "f_1_alias,f_2_alias= get_aliases(nicknames)\n",
    "num_rounds = overview[2].text.split(':')[1].strip()[0]\n",
    "title_fight = get_title_fight(fight_type)\n",
    "weight_class = get_weight_class(fight_type)\n",
    "gender = get_gender(fight_type)  \n",
    "result,result_details = get_result(select_result,select_result_details)\n",
    "finish_round = overview[0].text.split(':')[1]\n",
    "finish_time = re.findall('\\d:\\d\\d',overview[1].text)[0]\n",
    "winner = get_winner(win_lose,f_1,f_2)"
   ]
  }
 ],
 "metadata": {
  "kernelspec": {
   "display_name": ".venv",
   "language": "python",
   "name": "python3"
  },
  "language_info": {
   "codemirror_mode": {
    "name": "ipython",
    "version": 3
   },
   "file_extension": ".py",
   "mimetype": "text/x-python",
   "name": "python",
   "nbconvert_exporter": "python",
   "pygments_lexer": "ipython3",
   "version": "3.12.2"
  }
 },
 "nbformat": 4,
 "nbformat_minor": 5
}
